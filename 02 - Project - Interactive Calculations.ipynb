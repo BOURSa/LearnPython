{
 "cells": [
  {
   "cell_type": "markdown",
   "metadata": {},
   "source": [
    "# Project - Interactive Calculations\n",
    "### Goal\n",
    "- Multiply two numbers\n",
    "- Days since you were born\n",
    "- Tip calculator"
   ]
  },
  {
   "cell_type": "markdown",
   "metadata": {},
   "source": [
    "### Step 1\n",
    "- Input a value from the user and keep it in variable **a**.\n",
    "- Input another value from the user and keep it in variable **b**.\n",
    "- Print the product of the two values (**a*b**)."
   ]
  },
  {
   "cell_type": "code",
   "execution_count": 11,
   "metadata": {},
   "outputs": [
    {
     "name": "stdout",
     "output_type": "stream",
     "text": [
      "Input value a:3\n",
      "Input value b:3\n",
      "The product of 3 and 3 is 9\n"
     ]
    }
   ],
   "source": [
    "a = input(\"Input value a:\")\n",
    "a = int(a)\n",
    "b = input(\"Input value b:\")\n",
    "b = int(b)\n",
    "print(f\"The product of {a} and {b} is {a*b}\")"
   ]
  },
  {
   "cell_type": "markdown",
   "metadata": {},
   "source": [
    "### Step 2\n",
    "- Input how many years the user it.\n",
    "- Convert the years to an integer.\n",
    "- Calculate how many days, hours, minutes, and seconds since the user is."
   ]
  },
  {
   "cell_type": "code",
   "execution_count": 3,
   "metadata": {
    "scrolled": true
   },
   "outputs": [
    {
     "name": "stdout",
     "output_type": "stream",
     "text": [
      "What is your name?Rune\n",
      "How many years are you?42\n",
      "You are 15330 days old.\n",
      "You are 367920 hours old.\n",
      "You are 22075200 minutes old.\n",
      "You are 1324512000 seconds old.\n"
     ]
    }
   ],
   "source": [
    "age = input(\"How many years are you?\")\n",
    "years = int(age)\n",
    "print(f\"You are {years*365} days old.\")\n",
    "print(f\"You are {years*365*24} hours old.\")\n",
    "print(f\"You are {years*365*24*60} minutes old.\")\n",
    "print(f\"You are {years*365*24*60*60} seconds old.\")"
   ]
  },
  {
   "cell_type": "markdown",
   "metadata": {},
   "source": [
    "### Step 3\n",
    "- Here we will make a tip calculator.\n",
    "- Input the price.\n",
    "- Convert the price to an integer.\n",
    "- Input the percentage the user wants to tip.\n",
    "- Convert the percentage to an integer.\n",
    "- Calculate the tip by the following formula: **tip = price $\\times$ percentage_tip / 2**.\n",
    "- Round the tip to two digits.\n",
    "- Print the the tip.\n",
    "- *BONUS:* Adjust the code to tage float input of percentage tip"
   ]
  },
  {
   "cell_type": "code",
   "execution_count": 8,
   "metadata": {},
   "outputs": [
    {
     "name": "stdout",
     "output_type": "stream",
     "text": [
      "What was the price?12\n",
      "How much do you want to tip (in percentage)?12.3\n",
      "You should tip 1.48 dollars!\n"
     ]
    }
   ],
   "source": [
    "price_str = input(\"What was the price?\")\n",
    "price = int(price_str)\n",
    "tip_str = input(\"How much do you want to tip (in percentage)?\")\n",
    "tip = float(tip_str)\n",
    "tip = round(price*tip/100, 2)\n",
    "print(f\"You should tip {tip} dollars!\")"
   ]
  }
 ],
 "metadata": {
  "kernelspec": {
   "display_name": "Python 3",
   "language": "python",
   "name": "python3"
  },
  "language_info": {
   "codemirror_mode": {
    "name": "ipython",
    "version": 3
   },
   "file_extension": ".py",
   "mimetype": "text/x-python",
   "name": "python",
   "nbconvert_exporter": "python",
   "pygments_lexer": "ipython3",
   "version": "3.8.5"
  }
 },
 "nbformat": 4,
 "nbformat_minor": 4
}
