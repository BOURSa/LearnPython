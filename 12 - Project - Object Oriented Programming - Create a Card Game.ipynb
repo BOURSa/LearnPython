{
 "cells": [
  {
   "cell_type": "markdown",
   "metadata": {},
   "source": [
    "# Project - Object Oriented Programming - Crate a Card Game\n",
    "### Goal\n",
    "- Learn basic Object Oriented Programming\n",
    "- Create a Simple Card Game"
   ]
  },
  {
   "cell_type": "markdown",
   "metadata": {},
   "source": [
    "![Class diagram](img/ClassDiagram.png)"
   ]
  },
  {
   "cell_type": "code",
   "execution_count": 14,
   "metadata": {},
   "outputs": [],
   "source": [
    "import random"
   ]
  },
  {
   "cell_type": "code",
   "execution_count": 28,
   "metadata": {},
   "outputs": [],
   "source": [
    "class Card:\n",
    "    suits = ['\\u2666', '\\u2665', '\\u2663', '\\u2660']\n",
    "    ranks = [\"2\", \"3\", \"4\", \"5\", \"6\", \"7\", \"8\", \"9\", \"10\", \"J\", \"Q\", \"K\", \"A\"]\n",
    "\n",
    "    def __init__(self, suit, rank):\n",
    "        self.suit = suit\n",
    "        self.rank = rank\n",
    "\n",
    "    def __str__(self):\n",
    "        return f'{Card.suits[self.suit]}{Card.ranks[self.rank]}'\n",
    "\n",
    "    def __lt__(self, other):\n",
    "        t1 = self.rank, self.suit\n",
    "        t2 = other.rank, other.suit\n",
    "        return t1 < t2\n",
    "\n",
    "\n",
    "class Deck:\n",
    "    def __init__(self):\n",
    "        self.cards = []\n",
    "        for suit in range(4):\n",
    "            for rank in range(13):\n",
    "                card = Card(suit, rank)\n",
    "                self.cards.append(card)\n",
    "        self.shuffle()\n",
    "\n",
    "    def __len__(self):\n",
    "        return len(self.cards)\n",
    "\n",
    "    def add_card(self, card):\n",
    "        self.cards.append(card)\n",
    "\n",
    "    def pop_card(self):\n",
    "        return self.cards.pop(i)\n",
    "\n",
    "    def shuffle(self):\n",
    "        random.shuffle(self.cards)\n",
    "\n",
    "\n",
    "class Hand(Deck):\n",
    "    def __init__(self, label):\n",
    "        self.cards = []\n",
    "        self.label = label\n",
    "        self.win_count = 0\n",
    "\n",
    "    def get_label(self):\n",
    "        return self.label\n",
    "\n",
    "    def round_winner(self):\n",
    "        self.win_count += 1\n",
    "\n",
    "    def get_win_count(self):\n",
    "        return self.win_count\n",
    "\n",
    "    def __str__(self):\n",
    "        return self.label + \": \" + ' '.join([str(card) for card in self.cards])\n",
    "\n",
    "\n",
    "def play():\n",
    "    deck = Deck()\n",
    "    hands = []\n",
    "    for i in range(1, 5):\n",
    "        player = f'P{i}'\n",
    "        hands.append(Hand(player))\n",
    "\n",
    "    while len(deck) > 0:\n",
    "        for hand in hands:\n",
    "            hand.add_card(deck.pop_card())\n",
    "\n",
    "    print(hands[0])\n",
    "\n",
    "    for i in range(1, 14):\n",
    "        input()\n",
    "        played_cards = []\n",
    "        for hand in hands:\n",
    "            card = hand.pop_card()\n",
    "            played_cards.append(card)\n",
    "\n",
    "        winner_card = max(played_cards)\n",
    "        \n",
    "        winner_hand = hands[played_cards.index(winner_card)]\n",
    "        winner_hand.round_winner()\n",
    "        \n",
    "        output = [f'{hands[i].get_label()}: {played_cards[i]}' for i in range(len(hands))]\n",
    "        \n",
    "        print(f\"R{i}\"\":\", \", \".join(output), \", Winner :\", winner_hand.get_label(), \":\", winner_card)\n",
    "\n",
    "    for hand in hands:\n",
    "        print(\"Score for\", hand.get_label(), \"is\", hand.get_win_count())"
   ]
  },
  {
   "cell_type": "code",
   "execution_count": 29,
   "metadata": {},
   "outputs": [
    {
     "name": "stdout",
     "output_type": "stream",
     "text": [
      "Card for P1 is ♥5 ♥2 ♣6 ♦A ♥6 ♣3 ♦9 ♦K ♥A ♠Q ♦5 ♥K ♠J\n",
      "\n",
      "R1: P1: ♠J, P2: ♣J, P3: ♥Q, P4: ♣9 , Winner : P3 : ♥Q\n",
      "\n",
      "R2: P1: ♥K, P2: ♦J, P3: ♣A, P4: ♠2 , Winner : P3 : ♣A\n",
      "\n",
      "R3: P1: ♦5, P2: ♣4, P3: ♦3, P4: ♦8 , Winner : P4 : ♦8\n",
      "\n",
      "R4: P1: ♠Q, P2: ♥7, P3: ♣2, P4: ♦10 , Winner : P1 : ♠Q\n",
      "\n",
      "R5: P1: ♥A, P2: ♥3, P3: ♠10, P4: ♣10 , Winner : P1 : ♥A\n",
      "\n",
      "R6: P1: ♦K, P2: ♥J, P3: ♦7, P4: ♠3 , Winner : P1 : ♦K\n",
      "\n",
      "R7: P1: ♦9, P2: ♣7, P3: ♦2, P4: ♠A , Winner : P4 : ♠A\n",
      "\n",
      "R8: P1: ♣3, P2: ♥4, P3: ♥10, P4: ♠6 , Winner : P3 : ♥10\n",
      "\n",
      "R9: P1: ♥6, P2: ♠8, P3: ♣Q, P4: ♠5 , Winner : P3 : ♣Q\n",
      "\n",
      "R10: P1: ♦A, P2: ♠K, P3: ♠4, P4: ♠9 , Winner : P1 : ♦A\n",
      "\n",
      "R11: P1: ♣6, P2: ♦4, P3: ♣K, P4: ♠7 , Winner : P3 : ♣K\n",
      "\n",
      "R12: P1: ♥2, P2: ♦Q, P3: ♣8, P4: ♥9 , Winner : P2 : ♦Q\n",
      "\n",
      "R13: P1: ♥5, P2: ♣5, P3: ♥8, P4: ♦6 , Winner : P3 : ♥8\n",
      "Score for P1 is 4\n",
      "Score for P2 is 1\n",
      "Score for P3 is 6\n",
      "Score for P4 is 2\n"
     ]
    }
   ],
   "source": [
    "play()"
   ]
  },
  {
   "cell_type": "code",
   "execution_count": null,
   "metadata": {},
   "outputs": [],
   "source": []
  }
 ],
 "metadata": {
  "kernelspec": {
   "display_name": "Python 3",
   "language": "python",
   "name": "python3"
  },
  "language_info": {
   "codemirror_mode": {
    "name": "ipython",
    "version": 3
   },
   "file_extension": ".py",
   "mimetype": "text/x-python",
   "name": "python",
   "nbconvert_exporter": "python",
   "pygments_lexer": "ipython3",
   "version": "3.8.5"
  }
 },
 "nbformat": 4,
 "nbformat_minor": 4
}
