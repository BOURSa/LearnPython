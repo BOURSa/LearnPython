{
 "cells": [
  {
   "cell_type": "markdown",
   "metadata": {},
   "source": [
    "# Project - Math Game and Rock-Paper-Scissor Game\n",
    "### Goal\n",
    "- Create a Math Game\n",
    "- Create a [Rock-Paper-Scissors Game](https://en.wikipedia.org/wiki/Rock_paper_scissors)"
   ]
  },
  {
   "cell_type": "markdown",
   "metadata": {},
   "source": [
    "### Math Game\n",
    "- First, import random\n",
    "- Get a random inteteger from the range 1 to 10 (both inclusive)\n",
    "- Get another random inteteger from the range 1 to 10 (both inclusive)\n",
    "- Prompt the user for what the two integers multiplied is\n",
    "- Print if correct or not. If not corrrect, print the correct answer."
   ]
  },
  {
   "cell_type": "code",
   "execution_count": 1,
   "metadata": {},
   "outputs": [],
   "source": [
    "import random"
   ]
  },
  {
   "cell_type": "code",
   "execution_count": 5,
   "metadata": {},
   "outputs": [
    {
     "name": "stdout",
     "output_type": "stream",
     "text": [
      "What is 6 times 3?3\n",
      "Incorrect, 6 time 3 is 18 not 3\n"
     ]
    }
   ],
   "source": [
    "a = random.randint(1, 10)\n",
    "b = random.randint(1, 10)\n",
    "c = input(f\"What is {a} times {b}?\")\n",
    "if int(c) == a*b:\n",
    "    print(\"Correct\")\n",
    "else:\n",
    "    print(f\"Incorrect, {a} times {b} is {a*b} not {c}\")"
   ]
  },
  {
   "cell_type": "markdown",
   "metadata": {},
   "source": [
    "### Rock, Paper, Scissors Game\n",
    "\n",
    "![Rock Paper Scissor](img/RockPaperScissors.png \"Rock-Paper-Scissor\")"
   ]
  },
  {
   "cell_type": "code",
   "execution_count": 9,
   "metadata": {},
   "outputs": [
    {
     "name": "stdout",
     "output_type": "stream",
     "text": [
      "Enter choice \n",
      " 1. Rock \n",
      " 2. Paper \n",
      " 3. Scissor \n",
      "\n",
      "Choice: 2\n",
      "Computer wins, Scissor\n"
     ]
    }
   ],
   "source": [
    "print(\"Enter choice \\n 1. Rock \\n 2. Paper \\n 3. Scissor \\n\")\n",
    "choice = int(input(\"Choice: \"))\n",
    "computer_choice = random.randint(1, 3)\n",
    "\n",
    "if choice == computer_choice:\n",
    "    print(\"Draw\")\n",
    "elif choice == 1:\n",
    "    if computer_choice == 2:\n",
    "        print(\"Computer wins, Paper\")\n",
    "    else:\n",
    "        print(\"You win, Scissor\")\n",
    "elif choice == 2:\n",
    "    if computer_choice == 1:\n",
    "        print(\"You win, Rock\")\n",
    "    else:\n",
    "        print(\"Computer wins, Scissor\")\n",
    "elif choice == 3:\n",
    "    if computer_choice == 1:\n",
    "        print(\"Computer wins, Rock\")\n",
    "    else:\n",
    "        print(\"You win, Paper\")"
   ]
  },
  {
   "cell_type": "code",
   "execution_count": null,
   "metadata": {},
   "outputs": [],
   "source": []
  }
 ],
 "metadata": {
  "kernelspec": {
   "display_name": "Python 3",
   "language": "python",
   "name": "python3"
  },
  "language_info": {
   "codemirror_mode": {
    "name": "ipython",
    "version": 3
   },
   "file_extension": ".py",
   "mimetype": "text/x-python",
   "name": "python",
   "nbconvert_exporter": "python",
   "pygments_lexer": "ipython3",
   "version": "3.8.5"
  }
 },
 "nbformat": 4,
 "nbformat_minor": 4
}
