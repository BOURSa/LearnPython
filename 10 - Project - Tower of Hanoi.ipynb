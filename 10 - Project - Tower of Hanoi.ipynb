{
 "cells": [
  {
   "cell_type": "markdown",
   "metadata": {},
   "source": [
    "# Project - Tower of Hanoi\n",
    "### Goal\n",
    "- Solve [Tower of Hanoi](https://en.wikipedia.org/wiki/Tower_of_Hanoi) recusive"
   ]
  },
  {
   "cell_type": "code",
   "execution_count": 45,
   "metadata": {},
   "outputs": [],
   "source": [
    "towers = [[3, 2, 1], [], []]"
   ]
  },
  {
   "cell_type": "code",
   "execution_count": 34,
   "metadata": {},
   "outputs": [
    {
     "data": {
      "text/plain": [
       "[[3, 2, 1], [], []]"
      ]
     },
     "execution_count": 34,
     "metadata": {},
     "output_type": "execute_result"
    }
   ],
   "source": [
    "towers"
   ]
  },
  {
   "cell_type": "code",
   "execution_count": 35,
   "metadata": {},
   "outputs": [],
   "source": [
    "def move(towers, from_tower, dest_tower):\n",
    "    disk = towers[from_tower].pop()\n",
    "    towers[dest_tower].append(disk)\n",
    "    return towers"
   ]
  },
  {
   "cell_type": "code",
   "execution_count": 8,
   "metadata": {},
   "outputs": [],
   "source": [
    "towers = move(towers, 0, 2)"
   ]
  },
  {
   "cell_type": "code",
   "execution_count": 9,
   "metadata": {},
   "outputs": [
    {
     "data": {
      "text/plain": [
       "[[3, 2], [], [1]]"
      ]
     },
     "execution_count": 9,
     "metadata": {},
     "output_type": "execute_result"
    }
   ],
   "source": [
    "towers"
   ]
  },
  {
   "cell_type": "code",
   "execution_count": 10,
   "metadata": {},
   "outputs": [],
   "source": [
    "towers = move(towers, 2, 0)"
   ]
  },
  {
   "cell_type": "code",
   "execution_count": 36,
   "metadata": {},
   "outputs": [
    {
     "data": {
      "text/plain": [
       "[[3, 2, 1], [], []]"
      ]
     },
     "execution_count": 36,
     "metadata": {},
     "output_type": "execute_result"
    }
   ],
   "source": [
    "towers"
   ]
  },
  {
   "cell_type": "code",
   "execution_count": 41,
   "metadata": {},
   "outputs": [],
   "source": [
    "def print_towers(towers):\n",
    "    for i in range(3, 0, -1):\n",
    "        for tower in towers:\n",
    "            if len(tower) >= i:\n",
    "                print(f\" {tower[i - 1]} \", end='')\n",
    "            else:\n",
    "                print(\" ! \", end='')\n",
    "        print()\n",
    "    print(\"---------\")"
   ]
  },
  {
   "cell_type": "code",
   "execution_count": 42,
   "metadata": {
    "scrolled": true
   },
   "outputs": [
    {
     "name": "stdout",
     "output_type": "stream",
     "text": [
      " !  !  1 \n",
      " !  !  2 \n",
      " !  !  3 \n",
      "---------\n"
     ]
    }
   ],
   "source": [
    "print_towers(towers)"
   ]
  },
  {
   "cell_type": "code",
   "execution_count": 43,
   "metadata": {},
   "outputs": [],
   "source": [
    "def solve_tower_of_hanoi(towers, n, start_tower, dest_tower, aux_tower):\n",
    "    # Base case - do nothing\n",
    "    if n == 0:\n",
    "        return\n",
    " \n",
    "    # Move subproblem of n - 1 disks from start_tower to aux_tower.\n",
    "    solve_tower_of_hanoi(towers, n - 1, start_tower, aux_tower, dest_tower)\n",
    " \n",
    "    # Move disk n to dest_tower.\n",
    "    move(towers, start_tower, dest_tower)\n",
    "    print_towers(towers)\n",
    " \n",
    "    # Move subproblem of n - 1 disk from aux_tower to dest_tower.\n",
    "    solve_tower_of_hanoi(towers, n - 1, aux_tower, dest_tower, start_tower)\n"
   ]
  },
  {
   "cell_type": "code",
   "execution_count": 47,
   "metadata": {
    "scrolled": true
   },
   "outputs": [
    {
     "name": "stdout",
     "output_type": "stream",
     "text": [
      " 1  !  ! \n",
      " 2  !  ! \n",
      " 3  !  ! \n",
      "---------\n",
      " !  !  ! \n",
      " 2  !  ! \n",
      " 3  !  1 \n",
      "---------\n",
      " !  !  ! \n",
      " !  !  ! \n",
      " 3  2  1 \n",
      "---------\n",
      " !  !  ! \n",
      " !  1  ! \n",
      " 3  2  ! \n",
      "---------\n",
      " !  !  ! \n",
      " !  1  ! \n",
      " !  2  3 \n",
      "---------\n",
      " !  !  ! \n",
      " !  !  ! \n",
      " 1  2  3 \n",
      "---------\n",
      " !  !  ! \n",
      " !  !  2 \n",
      " 1  !  3 \n",
      "---------\n",
      " !  !  1 \n",
      " !  !  2 \n",
      " !  !  3 \n",
      "---------\n"
     ]
    }
   ],
   "source": [
    "towers = [[3, 2, 1], [], []]\n",
    "print_towers(towers)\n",
    "solve_tower_of_hanoi(towers, len(towers), 0, 2, 1)"
   ]
  },
  {
   "cell_type": "code",
   "execution_count": null,
   "metadata": {},
   "outputs": [],
   "source": []
  }
 ],
 "metadata": {
  "kernelspec": {
   "display_name": "Python 3",
   "language": "python",
   "name": "python3"
  },
  "language_info": {
   "codemirror_mode": {
    "name": "ipython",
    "version": 3
   },
   "file_extension": ".py",
   "mimetype": "text/x-python",
   "name": "python",
   "nbconvert_exporter": "python",
   "pygments_lexer": "ipython3",
   "version": "3.8.5"
  }
 },
 "nbformat": 4,
 "nbformat_minor": 4
}
