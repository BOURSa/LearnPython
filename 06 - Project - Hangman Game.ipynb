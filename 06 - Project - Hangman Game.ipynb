{
 "cells": [
  {
   "cell_type": "markdown",
   "metadata": {},
   "source": [
    "# Project - Hangman Game\n",
    "### Goal\n",
    "- Create a [Hangman Game](https://en.wikipedia.org/wiki/Hangman_(game))"
   ]
  },
  {
   "cell_type": "markdown",
   "metadata": {},
   "source": [
    "### Description\n",
    "- The game is as follows.\n",
    "- Computer has a list of words.\n",
    "- Computer chooses a random word from the list.\n",
    "- The player gets 10 wrong guesses (10 turns).\n",
    "- The game follows this loop\n",
    "    - Computer prints the word character by character replacing with underscore those not guessed yet (initial no characters has been guessed).\n",
    "    - Player guesses a character.\n",
    "    - If character is not in word, a turn is withdrawn\n",
    "    - If no turns left, computer wins.\n",
    "    - If player has guessed all characters, player wins\n",
    "- An initial word list could be: ['father', 'enterprise', 'science', 'programming', 'resistance', 'fiction', 'condition', 'reverse', 'computer', 'python']"
   ]
  },
  {
   "cell_type": "code",
   "execution_count": 1,
   "metadata": {},
   "outputs": [],
   "source": [
    "import random"
   ]
  },
  {
   "cell_type": "code",
   "execution_count": 14,
   "metadata": {},
   "outputs": [
    {
     "name": "stdout",
     "output_type": "stream",
     "text": [
      "Turns left: 10\n",
      "_ _ _ _ _ _ _ _ _ _ \n",
      "Guess a character: c\n",
      "Turns left: 10\n",
      "_ _ _ _ _ _ _ _ c _ \n",
      "Guess a character: e\n",
      "Turns left: 10\n",
      "_ e _ _ _ _ _ _ c e \n",
      "Guess a character: r\n",
      "Turns left: 10\n",
      "r e _ _ _ _ _ _ c e \n",
      "Guess a character: s\n",
      "Turns left: 10\n",
      "r e s _ s _ _ _ c e \n",
      "Guess a character: i\n",
      "Turns left: 10\n",
      "r e s i s _ _ _ c e \n",
      "Guess a character: t\n",
      "Turns left: 10\n",
      "r e s i s t _ _ c e \n",
      "Guess a character: a\n",
      "Turns left: 10\n",
      "r e s i s t a _ c e \n",
      "Guess a character: n\n",
      "Turns left: 10\n",
      "r e s i s t a n c e \n",
      "You won\n"
     ]
    }
   ],
   "source": [
    "words = ['father', 'enterprise', 'science', 'programming', 'resistance', 'fiction', 'condition', 'reverse', 'computer', 'python']\n",
    "\n",
    "word = random.choice(words)\n",
    "\n",
    "turns = 10\n",
    "\n",
    "guesses = ''\n",
    "\n",
    "while turns > 0:\n",
    "    print(f\"Turns left: {turns}\")\n",
    "    \n",
    "    guessed_all = True\n",
    "    for c in word:\n",
    "        if c in guesses:\n",
    "            print(c, end=' ')\n",
    "        else:\n",
    "            print('_', end=' ')\n",
    "            guessed_all = False\n",
    "    print()\n",
    "    if guessed_all:\n",
    "        print(\"You won\")\n",
    "        break\n",
    "    \n",
    "    guess = input(\"Guess a character: \")\n",
    "    \n",
    "    if guess in word:\n",
    "        guesses += guess\n",
    "    else:\n",
    "        turns -= 1\n",
    "else:\n",
    "    print(\"You lost\")\n",
    "        "
   ]
  },
  {
   "cell_type": "code",
   "execution_count": null,
   "metadata": {},
   "outputs": [],
   "source": []
  }
 ],
 "metadata": {
  "kernelspec": {
   "display_name": "Python 3",
   "language": "python",
   "name": "python3"
  },
  "language_info": {
   "codemirror_mode": {
    "name": "ipython",
    "version": 3
   },
   "file_extension": ".py",
   "mimetype": "text/x-python",
   "name": "python",
   "nbconvert_exporter": "python",
   "pygments_lexer": "ipython3",
   "version": "3.8.5"
  }
 },
 "nbformat": 4,
 "nbformat_minor": 4
}
