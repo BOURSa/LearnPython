{
 "cells": [
  {
   "cell_type": "markdown",
   "metadata": {},
   "source": [
    "# Project - CSV files - Cars\n",
    "### Goal\n",
    "- Learn how to read and process [CSV files](https://en.wikipedia.org/wiki/Comma-separated_values)"
   ]
  },
  {
   "cell_type": "markdown",
   "metadata": {},
   "source": [
    "### Description"
   ]
  },
  {
   "cell_type": "code",
   "execution_count": 1,
   "metadata": {},
   "outputs": [],
   "source": [
    "import csv"
   ]
  },
  {
   "cell_type": "code",
   "execution_count": 2,
   "metadata": {},
   "outputs": [],
   "source": [
    "with open('files/cars.csv', 'r') as f:\n",
    "    csv_reader = csv.DictReader(f)\n",
    "    cars = list(csv_reader)"
   ]
  },
  {
   "cell_type": "code",
   "execution_count": 3,
   "metadata": {},
   "outputs": [],
   "source": [
    "car_models = {}\n",
    "for car in cars:\n",
    "    car_models[car['Make']] = car_models.get(car['Make'], []) + [car['Horsepower']]"
   ]
  },
  {
   "cell_type": "code",
   "execution_count": 4,
   "metadata": {},
   "outputs": [],
   "source": [
    "car_avg_hp = {}\n",
    "for car, hps in car_models.items():\n",
    "    total_hp = 0\n",
    "    for hp in hps:\n",
    "        total_hp += int(hp)\n",
    "    car_avg_hp[car] = total_hp/len(hps)"
   ]
  },
  {
   "cell_type": "code",
   "execution_count": 5,
   "metadata": {},
   "outputs": [
    {
     "data": {
      "text/plain": [
       "{'Audi': 300.18390804597703,\n",
       " 'Acura': 262.8484848484849,\n",
       " 'BMW': 347.18045112781954,\n",
       " 'Chevrolet': 294.8083067092652,\n",
       " 'Nissan': 269.2142857142857,\n",
       " 'Volvo': 247.24271844660194,\n",
       " 'Bentley': 577.4444444444445,\n",
       " 'Toyota': 253.44923076923078,\n",
       " 'Honda': 188.225,\n",
       " 'Ford': 275.4112769485904,\n",
       " 'Rolls-Royce': 475.0,\n",
       " 'Volkswagen': 192.49612403100775,\n",
       " 'Maybach': 599.8461538461538,\n",
       " 'Lamborghini': 554.8,\n",
       " 'Lexus': 301.61538461538464,\n",
       " 'Hyundai': 207.3031914893617,\n",
       " 'Mercedes': 280.21875,\n",
       " 'BMW Motorrad': 233.6206896551724,\n",
       " 'Kia': 179.74074074074073,\n",
       " 'AMG': 525.9,\n",
       " 'Mazda': 187.14880952380952,\n",
       " 'Mercedes-Benz': 388.42857142857144,\n",
       " 'Mercedes-AMG': 494.8333333333333,\n",
       " 'Mitsubishi': 195.35294117647058,\n",
       " 'Cadillac': 340.98,\n",
       " 'Infiniti': 322.1294117647059,\n",
       " 'Dodge': 303.93461538461537,\n",
       " 'Lincoln': 290.5581395348837,\n",
       " 'GMC': 285.9755434782609,\n",
       " 'Porsche': 376.54901960784315,\n",
       " 'Jeep': 207.60504201680672,\n",
       " 'Subaru': 205.2095238095238,\n",
       " 'Buick': 249.88732394366198,\n",
       " 'Suzuki': 185.13725490196077,\n",
       " 'Saab': 222.54237288135593,\n",
       " 'Aston Martin': 470.0,\n",
       " 'Grand Cherokee': 320.0625,\n",
       " 'Land Rover': 373.85714285714283,\n",
       " 'Chrysler': 246.7,\n",
       " 'Ferrari': 540.0,\n",
       " 'Scion': 156.6153846153846,\n",
       " 'MINI': 160.96774193548387,\n",
       " 'Jaguar': 448.75,\n",
       " 'Chrysler Group LLC': 279.1666666666667,\n",
       " 'Lotus': 231.0,\n",
       " 'Maserati': 422.5,\n",
       " 'Mercury': 205.21428571428572}"
      ]
     },
     "execution_count": 5,
     "metadata": {},
     "output_type": "execute_result"
    }
   ],
   "source": [
    "car_avg_hp"
   ]
  },
  {
   "cell_type": "code",
   "execution_count": null,
   "metadata": {},
   "outputs": [],
   "source": []
  }
 ],
 "metadata": {
  "kernelspec": {
   "display_name": "Python 3",
   "language": "python",
   "name": "python3"
  },
  "language_info": {
   "codemirror_mode": {
    "name": "ipython",
    "version": 3
   },
   "file_extension": ".py",
   "mimetype": "text/x-python",
   "name": "python",
   "nbconvert_exporter": "python",
   "pygments_lexer": "ipython3",
   "version": "3.8.5"
  }
 },
 "nbformat": 4,
 "nbformat_minor": 4
}
