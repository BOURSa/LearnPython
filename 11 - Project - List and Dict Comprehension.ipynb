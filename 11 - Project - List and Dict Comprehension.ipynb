{
 "cells": [
  {
   "cell_type": "markdown",
   "metadata": {},
   "source": [
    "# Project - List and Dict Comprehension\n",
    "### Goal\n",
    "- Learn to use list and dict comprehension"
   ]
  },
  {
   "cell_type": "markdown",
   "metadata": {},
   "source": [
    "### Description\n",
    "- Redo some of our code"
   ]
  },
  {
   "cell_type": "code",
   "execution_count": 13,
   "metadata": {},
   "outputs": [],
   "source": [
    "def encrypt_char(char, key):\n",
    "    return chr(ord('A') + (ord(char) - ord('A') + key) % 25)\n",
    "\n",
    "message = \"you are awesome\"\n",
    "\n",
    "cipher = [encrypt_char(c, 3) if c not in \" .,\" else c for c in message.upper()]\n",
    "cipher = ''.join(cipher)"
   ]
  },
  {
   "cell_type": "code",
   "execution_count": 14,
   "metadata": {},
   "outputs": [
    {
     "data": {
      "text/plain": [
       "'CRX DUH DAHVRPH'"
      ]
     },
     "execution_count": 14,
     "metadata": {},
     "output_type": "execute_result"
    }
   ],
   "source": [
    "cipher"
   ]
  },
  {
   "cell_type": "code",
   "execution_count": 17,
   "metadata": {},
   "outputs": [
    {
     "data": {
      "text/plain": [
       "'YOU ARE AWESOME'"
      ]
     },
     "execution_count": 17,
     "metadata": {},
     "output_type": "execute_result"
    }
   ],
   "source": [
    "def decrypt_char(char, key):\n",
    "    return encrypt_char(char, 25 - key)\n",
    "\n",
    "decrypted = [decrypt_char(c, 3) if c not in \" .,\" else c for c in cipher.upper()]\n",
    "''.join(decrypted)"
   ]
  },
  {
   "cell_type": "code",
   "execution_count": 4,
   "metadata": {},
   "outputs": [
    {
     "name": "stdout",
     "output_type": "stream",
     "text": [
      "Write a line of text: test test\n",
      "{'t': 4, 'e': 2, 's': 2, ' ': 1}\n",
      "{'t': 4, ' ': 1, 'e': 2, 's': 2}\n",
      "Write a line of text: \n"
     ]
    }
   ],
   "source": [
    "while True:\n",
    "    text = input(\"Write a line of text: \")\n",
    "    if text == \"\":\n",
    "        break\n",
    "        \n",
    "    freq = {}\n",
    "    for c in text:\n",
    "        c = c.lower()\n",
    "        freq[c] = freq.get(c, 0) + 1\n",
    "    \n",
    "    print(freq)\n",
    "    print({token: text.count(token) for token in set(text)})\n",
    "    \n",
    "#    for key, value in freq.items():\n",
    "#        print(f\"{key}: {value}\")"
   ]
  },
  {
   "cell_type": "code",
   "execution_count": null,
   "metadata": {},
   "outputs": [],
   "source": []
  }
 ],
 "metadata": {
  "kernelspec": {
   "display_name": "Python 3",
   "language": "python",
   "name": "python3"
  },
  "language_info": {
   "codemirror_mode": {
    "name": "ipython",
    "version": 3
   },
   "file_extension": ".py",
   "mimetype": "text/x-python",
   "name": "python",
   "nbconvert_exporter": "python",
   "pygments_lexer": "ipython3",
   "version": "3.8.5"
  }
 },
 "nbformat": 4,
 "nbformat_minor": 4
}
