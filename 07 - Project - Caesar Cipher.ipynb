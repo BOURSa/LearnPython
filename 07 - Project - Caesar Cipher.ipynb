{
 "cells": [
  {
   "cell_type": "markdown",
   "metadata": {},
   "source": [
    "# Project - Caesar Cipher\n",
    "### Goal\n",
    "- Create [Caesar Cipher](https://en.wikipedia.org/wiki/Caesar_cipher) encryption and decryption functionality"
   ]
  },
  {
   "cell_type": "code",
   "execution_count": 1,
   "metadata": {},
   "outputs": [],
   "source": [
    "def encrypt_char(char, key):\n",
    "    return chr(ord('A') + (ord(char) - ord('A') + key) % 25)"
   ]
  },
  {
   "cell_type": "code",
   "execution_count": 2,
   "metadata": {},
   "outputs": [],
   "source": [
    "def encrypt_message(message, key):\n",
    "    message = message.upper()\n",
    "    cipher = ''\n",
    "    for char in message:\n",
    "        if char not in ' ,.':\n",
    "            cipher += encrypt_char(char, key)\n",
    "        else:\n",
    "            cipher += char\n",
    "    return cipher"
   ]
  },
  {
   "cell_type": "code",
   "execution_count": 3,
   "metadata": {},
   "outputs": [
    {
     "data": {
      "text/plain": [
       "'CRX DUH DAHVRPH.'"
      ]
     },
     "execution_count": 3,
     "metadata": {},
     "output_type": "execute_result"
    }
   ],
   "source": [
    "encrypt_message(\"you are awesome.\", 3)"
   ]
  },
  {
   "cell_type": "code",
   "execution_count": null,
   "metadata": {},
   "outputs": [],
   "source": [
    "def decrypt_char(char, key):\n",
    "    return chr(ord('A') + (ord(char) - ord('A') + 25 - key) % 25)"
   ]
  },
  {
   "cell_type": "code",
   "execution_count": null,
   "metadata": {},
   "outputs": [],
   "source": [
    "def decrypt_message(cipher, key):\n",
    "    cipher = cipher.upper()\n",
    "    message = ''\n",
    "    for char in cipher:\n",
    "        if char not in ' ,.':\n",
    "            message += decrypt_char(char, key)\n",
    "        else:\n",
    "            message += char\n",
    "    return message"
   ]
  },
  {
   "cell_type": "code",
   "execution_count": null,
   "metadata": {},
   "outputs": [],
   "source": [
    "decrypt_message('CRX DUH DAHVRPH.', 3)"
   ]
  },
  {
   "cell_type": "code",
   "execution_count": null,
   "metadata": {},
   "outputs": [],
   "source": [
    "for i in range(25):\n",
    "    print(decrypt_message('CRX DUH DAHVRPH.', i))"
   ]
  },
  {
   "cell_type": "code",
   "execution_count": null,
   "metadata": {},
   "outputs": [],
   "source": []
  },
  {
   "cell_type": "code",
   "execution_count": null,
   "metadata": {},
   "outputs": [],
   "source": []
  }
 ],
 "metadata": {
  "kernelspec": {
   "display_name": "Python 3",
   "language": "python",
   "name": "python3"
  },
  "language_info": {
   "codemirror_mode": {
    "name": "ipython",
    "version": 3
   },
   "file_extension": ".py",
   "mimetype": "text/x-python",
   "name": "python",
   "nbconvert_exporter": "python",
   "pygments_lexer": "ipython3",
   "version": "3.8.5"
  }
 },
 "nbformat": 4,
 "nbformat_minor": 4
}
