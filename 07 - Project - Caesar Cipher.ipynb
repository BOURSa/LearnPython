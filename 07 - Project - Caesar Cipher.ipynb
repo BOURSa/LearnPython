{
 "cells": [
  {
   "cell_type": "markdown",
   "metadata": {},
   "source": [
    "# Project - Caesar Cipher\n",
    "### Goal\n",
    "- Create [Caesar Cipher](https://en.wikipedia.org/wiki/Caesar_cipher) encryption and decryption functionality"
   ]
  },
  {
   "cell_type": "markdown",
   "metadata": {},
   "source": [
    "### Description\n",
    "- The Caesar Cipher is a simple substitution cipher, which is limited to only shift the characters by fixed number.\n",
    "- Let's take an example\n",
    "    - Imagine you got the message: BRX DUH DZHVRPH. What to make out of it. Makes no sense.\n",
    "    - But what if we get help from this diagram\n",
    "    \n",
    "![Caesar Cipher](img/CaesarCipher.png)"
   ]
  },
  {
   "cell_type": "markdown",
   "metadata": {},
   "source": [
    "### Project\n",
    "- Implement helper function **encrypt_char(char, key)** to encrypt a single character, **char**, with **key**.\n",
    "    - It can be helpful to use **ord()**, **chr()** and **%**.\n",
    "    - Calculation can be a bit tricky.\n",
    "- Implement **encrypt_message(message, key)**, it should use the helper function.\n",
    "- Implement similar functions for decrypt."
   ]
  },
  {
   "cell_type": "code",
   "execution_count": 1,
   "metadata": {},
   "outputs": [],
   "source": [
    "def encrypt_char(char, key):\n",
    "    return chr(ord('A') + (ord(char) - ord('A') + key) % 26)"
   ]
  },
  {
   "cell_type": "code",
   "execution_count": 2,
   "metadata": {},
   "outputs": [],
   "source": [
    "def encrypt_message(message, key):\n",
    "    message = message.upper()\n",
    "    cipher = ''\n",
    "    for char in message:\n",
    "        if char not in ' ,.':\n",
    "            cipher += encrypt_char(char, key)\n",
    "        else:\n",
    "            cipher += char\n",
    "    return cipher"
   ]
  },
  {
   "cell_type": "code",
   "execution_count": 3,
   "metadata": {
    "scrolled": true
   },
   "outputs": [
    {
     "data": {
      "text/plain": [
       "'BRX DUH DZHVRPH.'"
      ]
     },
     "execution_count": 3,
     "metadata": {},
     "output_type": "execute_result"
    }
   ],
   "source": [
    "encrypt_message(\"you are awesome.\", 3)"
   ]
  },
  {
   "cell_type": "code",
   "execution_count": 4,
   "metadata": {},
   "outputs": [],
   "source": [
    "def decrypt_char(char, key):\n",
    "    return chr(ord('A') + (ord(char) - ord('A') + 26 - key) % 26)"
   ]
  },
  {
   "cell_type": "code",
   "execution_count": 5,
   "metadata": {},
   "outputs": [],
   "source": [
    "def decrypt_message(cipher, key):\n",
    "    cipher = cipher.upper()\n",
    "    message = ''\n",
    "    for char in cipher:\n",
    "        if char not in ' ,.':\n",
    "            message += decrypt_char(char, key)\n",
    "        else:\n",
    "            message += char\n",
    "    return message"
   ]
  },
  {
   "cell_type": "code",
   "execution_count": 12,
   "metadata": {},
   "outputs": [
    {
     "data": {
      "text/plain": [
       "'YOU ARE AWESOME.'"
      ]
     },
     "execution_count": 12,
     "metadata": {},
     "output_type": "execute_result"
    }
   ],
   "source": [
    "decrypt_message('BRX DUH DZHVRPH.', 3)"
   ]
  },
  {
   "cell_type": "code",
   "execution_count": 13,
   "metadata": {},
   "outputs": [
    {
     "name": "stdout",
     "output_type": "stream",
     "text": [
      "BRX DUH DZHVRPH.\n",
      "AQW CTG CYGUQOG.\n",
      "ZPV BSF BXFTPNF.\n",
      "YOU ARE AWESOME.\n",
      "XNT ZQD ZVDRNLD.\n",
      "WMS YPC YUCQMKC.\n",
      "VLR XOB XTBPLJB.\n",
      "UKQ WNA WSAOKIA.\n",
      "TJP VMZ VRZNJHZ.\n",
      "SIO ULY UQYMIGY.\n",
      "RHN TKX TPXLHFX.\n",
      "QGM SJW SOWKGEW.\n",
      "PFL RIV RNVJFDV.\n",
      "OEK QHU QMUIECU.\n",
      "NDJ PGT PLTHDBT.\n",
      "MCI OFS OKSGCAS.\n",
      "LBH NER NJRFBZR.\n",
      "KAG MDQ MIQEAYQ.\n",
      "JZF LCP LHPDZXP.\n",
      "IYE KBO KGOCYWO.\n",
      "HXD JAN JFNBXVN.\n",
      "GWC IZM IEMAWUM.\n",
      "FVB HYL HDLZVTL.\n",
      "EUA GXK GCKYUSK.\n",
      "DTZ FWJ FBJXTRJ.\n",
      "CSY EVI EAIWSQI.\n"
     ]
    }
   ],
   "source": [
    "for i in range(26):\n",
    "    print(decrypt_message('BRX DUH DZHVRPH.', i))"
   ]
  },
  {
   "cell_type": "code",
   "execution_count": 8,
   "metadata": {},
   "outputs": [],
   "source": [
    "def decrypt_char2(char, key):\n",
    "    return encrypt_char(char, 26 - key)"
   ]
  },
  {
   "cell_type": "code",
   "execution_count": 9,
   "metadata": {},
   "outputs": [
    {
     "data": {
      "text/plain": [
       "'A'"
      ]
     },
     "execution_count": 9,
     "metadata": {},
     "output_type": "execute_result"
    }
   ],
   "source": [
    "decrypt_char2('D', 3)"
   ]
  },
  {
   "cell_type": "code",
   "execution_count": 10,
   "metadata": {},
   "outputs": [],
   "source": [
    "def decrypt_message2(cipher, key):\n",
    "    return encrypt_message(cipher, 26 - key)"
   ]
  },
  {
   "cell_type": "code",
   "execution_count": 14,
   "metadata": {},
   "outputs": [
    {
     "data": {
      "text/plain": [
       "'YOU ARE AWESOME.'"
      ]
     },
     "execution_count": 14,
     "metadata": {},
     "output_type": "execute_result"
    }
   ],
   "source": [
    "decrypt_message2('BRX DUH DZHVRPH.', 3)"
   ]
  },
  {
   "cell_type": "code",
   "execution_count": null,
   "metadata": {},
   "outputs": [],
   "source": []
  }
 ],
 "metadata": {
  "kernelspec": {
   "display_name": "Python 3",
   "language": "python",
   "name": "python3"
  },
  "language_info": {
   "codemirror_mode": {
    "name": "ipython",
    "version": 3
   },
   "file_extension": ".py",
   "mimetype": "text/x-python",
   "name": "python",
   "nbconvert_exporter": "python",
   "pygments_lexer": "ipython3",
   "version": "3.8.5"
  }
 },
 "nbformat": 4,
 "nbformat_minor": 4
}
