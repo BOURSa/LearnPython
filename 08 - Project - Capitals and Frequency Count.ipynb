{
 "cells": [
  {
   "cell_type": "markdown",
   "metadata": {},
   "source": [
    "# Project - Capitals and Frequency Count\n",
    "### Goal\n",
    "- Guess Captial Game\n",
    "- Frequency Count"
   ]
  },
  {
   "cell_type": "code",
   "execution_count": 7,
   "metadata": {},
   "outputs": [],
   "source": [
    "import random"
   ]
  },
  {
   "cell_type": "code",
   "execution_count": 17,
   "metadata": {
    "scrolled": true
   },
   "outputs": [
    {
     "name": "stdout",
     "output_type": "stream",
     "text": [
      "What is the capital in Sweden? \n",
      "Incorrect! The capital of Sweden is Stockholm.\n",
      "Your score is: -1\n"
     ]
    }
   ],
   "source": [
    "capitals = {'France': 'Paris', 'Denmark': 'Copenhagen', 'Finland': 'Helsinki', 'Sweden': 'Stockholm'}\n",
    "\n",
    "score = 0\n",
    "\n",
    "while True:\n",
    "    country = random.choice(list(capitals.keys()))\n",
    "    \n",
    "    answer = input(f\"What is the capital in {country}? \")\n",
    "    \n",
    "    if answer.lower() == capitals[country].lower():\n",
    "        score += 1\n",
    "        print(f\"Correct! The capital of {country} is {capitals[country]}.\")\n",
    "    else:\n",
    "        score -= 1\n",
    "        print(f\"Incorrect! The capital of {country} is {capitals[country]}.\")\n",
    "    print(f\"Your score is: {score}\")\n",
    "    \n",
    "    if score < 0:\n",
    "        break"
   ]
  },
  {
   "cell_type": "code",
   "execution_count": 18,
   "metadata": {},
   "outputs": [
    {
     "name": "stdout",
     "output_type": "stream",
     "text": [
      "Write a line of text: This Is My Day\n",
      "t: 1\n",
      "h: 1\n",
      "i: 2\n",
      "s: 2\n",
      " : 3\n",
      "m: 1\n",
      "y: 2\n",
      "d: 1\n",
      "a: 1\n",
      "Write a line of text: \n"
     ]
    }
   ],
   "source": [
    "while True:\n",
    "    text = input(\"Write a line of text: \")\n",
    "    if text == \"\":\n",
    "        break\n",
    "        \n",
    "    freq = {}\n",
    "    for c in text:\n",
    "        c = c.lower()\n",
    "        freq[c] = freq.get(c, 0) + 1\n",
    "    \n",
    "    for key, value in freq.items():\n",
    "        print(f\"{key}: {value}\")"
   ]
  },
  {
   "cell_type": "code",
   "execution_count": null,
   "metadata": {},
   "outputs": [],
   "source": []
  }
 ],
 "metadata": {
  "kernelspec": {
   "display_name": "Python 3",
   "language": "python",
   "name": "python3"
  },
  "language_info": {
   "codemirror_mode": {
    "name": "ipython",
    "version": 3
   },
   "file_extension": ".py",
   "mimetype": "text/x-python",
   "name": "python",
   "nbconvert_exporter": "python",
   "pygments_lexer": "ipython3",
   "version": "3.8.5"
  }
 },
 "nbformat": 4,
 "nbformat_minor": 4
}
